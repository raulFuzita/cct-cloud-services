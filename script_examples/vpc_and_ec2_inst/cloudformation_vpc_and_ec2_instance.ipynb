{
  "nbformat": 4,
  "nbformat_minor": 0,
  "metadata": {
    "colab": {
      "name": "cloudformation_vpc_and_ec2_instance.ipynb",
      "provenance": [],
      "collapsed_sections": [],
      "authorship_tag": "ABX9TyPBs/nsTt7QSMIMHJ9xL7U6",
      "include_colab_link": true
    },
    "kernelspec": {
      "name": "python3",
      "display_name": "Python 3"
    },
    "language_info": {
      "name": "python"
    }
  },
  "cells": [
    {
      "cell_type": "markdown",
      "metadata": {
        "id": "view-in-github",
        "colab_type": "text"
      },
      "source": [
        "<a href=\"https://colab.research.google.com/github/raulFuzita/cct-cloud-services/blob/cloudformation/script_examples/vpc_and_ec2_inst/cloudformation_vpc_and_ec2_instance.ipynb\" target=\"_parent\"><img src=\"https://colab.research.google.com/assets/colab-badge.svg\" alt=\"Open In Colab\"/></a>"
      ]
    },
    {
      "cell_type": "markdown",
      "source": [
        "# CloudFormation Simple Template Generator"
      ],
      "metadata": {
        "id": "VioxiHjGokpY"
      }
    },
    {
      "cell_type": "markdown",
      "source": [
        "Author: Raul Macedo Fuzita\n",
        "\n",
        "Github: https://github.com/raulFuzita/cct-cloud-services/tree/cloudformation\n",
        "\n",
        "Email: raul.fuzita@gmail.com\n",
        "\n",
        "Please, contact me if you have any issue."
      ],
      "metadata": {
        "id": "Fd2x3sFrEVzv"
      }
    },
    {
      "cell_type": "markdown",
      "source": [
        "## How to Start"
      ],
      "metadata": {
        "id": "crOdpUEuFPh3"
      }
    },
    {
      "cell_type": "markdown",
      "source": [
        "We assume you have turn your S3 bucket to **public**, have a copy of your static website in a **zip** format in your bucket, and you have made your zip file public to ACL. If your S3 bucket doesn't meet any of these requirements, scroll down the page to the section **How to Make S3 Bucket Public**. Then come back to this section and read the following instructons."
      ],
      "metadata": {
        "id": "0UkIR_avFnU8"
      }
    },
    {
      "cell_type": "code",
      "source": [
        "# Author: Raul Macedo Fuzita\n",
        "#@markdown 👈 Please, run this cell to install and import all the necessary packages, and resources <font color=\"red\">(required)</font>.\n",
        "\n",
        "#@markdown <font color=\"lightblue\">After running this cell, you will be asked to restart the runtime again. Please, run this cell again.<font>\n",
        "\n",
        "import json\n",
        "import yaml\n",
        "import requests\n",
        "import re\n",
        "\n",
        "!pip install validators\n",
        "import validators\n",
        "\n",
        "# https://pypi.org/project/cfn-flip/\n",
        "!pip install cfn-flip\n",
        "from cfn_flip import flip, to_yaml, to_json\n",
        "\n",
        "from google.colab import files\n",
        "\n",
        "url = \"https://raw.githubusercontent.com/raulFuzita/cct-cloud-services/cloudformation/script_examples/vpc_and_ec2_inst/sample_vpc_ec2_inst.json\"\n",
        "r = requests.get(url)\n",
        "text = r.text.strip()\n",
        "\n",
        "data = json.loads(text)"
      ],
      "metadata": {
        "colab": {
          "base_uri": "https://localhost:8080/"
        },
        "cellView": "form",
        "id": "DNmfm2nTqdFC",
        "outputId": "71d618b7-b2eb-4d6b-c24f-fc382616ab66"
      },
      "execution_count": 4,
      "outputs": [
        {
          "output_type": "stream",
          "name": "stdout",
          "text": [
            "Requirement already satisfied: validators in /usr/local/lib/python3.7/dist-packages (0.18.2)\n",
            "Requirement already satisfied: decorator>=3.4.0 in /usr/local/lib/python3.7/dist-packages (from validators) (4.4.2)\n",
            "Requirement already satisfied: six>=1.4.0 in /usr/local/lib/python3.7/dist-packages (from validators) (1.15.0)\n",
            "Requirement already satisfied: cfn-flip in /usr/local/lib/python3.7/dist-packages (1.3.0)\n",
            "Requirement already satisfied: Click in /usr/local/lib/python3.7/dist-packages (from cfn-flip) (7.1.2)\n",
            "Requirement already satisfied: PyYAML>=4.1 in /usr/local/lib/python3.7/dist-packages (from cfn-flip) (6.0)\n",
            "Requirement already satisfied: six in /usr/local/lib/python3.7/dist-packages (from cfn-flip) (1.15.0)\n"
          ]
        }
      ]
    },
    {
      "cell_type": "markdown",
      "source": [
        "## Generate a Template"
      ],
      "metadata": {
        "id": "DO_LKWjY_i1N"
      }
    },
    {
      "cell_type": "markdown",
      "source": [
        "You can find the default configuration for VPC, Internet Gateway, Route Table, Public Subnet, Security Group, and EC2 Instance in the section **Infrastructure Information**. You're not require to change any configuration."
      ],
      "metadata": {
        "id": "4bZQG-fXWZ_Z"
      }
    },
    {
      "cell_type": "markdown",
      "source": [
        "*   **Description** <font color=\"lightgreen\">(optional)</font>: If you don't provide a description a default one will be added.\n",
        "    *    Only characters acepted are `:\\s._A-Za-z0-9` in regular.\n",
        "*   **Zip file from S3** <font color=\"red\">(required)</font>: If you don't provide a S3 URL that contains a **zip** file it won't except it.\n",
        "    *    Example of acept S3 URL: https://yourbucket.s3.amazonaws.com/your_website.zip\n",
        "*   **Extension** <font color=\"lightgreen\">(optional)</font>: The default format is JSON.\n",
        "    *    Options: JSON and YAML\n"
      ],
      "metadata": {
        "id": "cBYtz2Gc_m-M"
      }
    },
    {
      "cell_type": "code",
      "execution_count": 13,
      "metadata": {
        "cellView": "form",
        "id": "lOblr8-MmZ4c",
        "colab": {
          "base_uri": "https://localhost:8080/",
          "height": 17
        },
        "outputId": "37489229-43f7-44b0-8be0-868b7ca432ba"
      },
      "outputs": [
        {
          "output_type": "display_data",
          "data": {
            "application/javascript": [
              "\n",
              "    async function download(id, filename, size) {\n",
              "      if (!google.colab.kernel.accessAllowed) {\n",
              "        return;\n",
              "      }\n",
              "      const div = document.createElement('div');\n",
              "      const label = document.createElement('label');\n",
              "      label.textContent = `Downloading \"${filename}\": `;\n",
              "      div.appendChild(label);\n",
              "      const progress = document.createElement('progress');\n",
              "      progress.max = size;\n",
              "      div.appendChild(progress);\n",
              "      document.body.appendChild(div);\n",
              "\n",
              "      const buffers = [];\n",
              "      let downloaded = 0;\n",
              "\n",
              "      const channel = await google.colab.kernel.comms.open(id);\n",
              "      // Send a message to notify the kernel that we're ready.\n",
              "      channel.send({})\n",
              "\n",
              "      for await (const message of channel.messages) {\n",
              "        // Send a message to notify the kernel that we're ready.\n",
              "        channel.send({})\n",
              "        if (message.buffers) {\n",
              "          for (const buffer of message.buffers) {\n",
              "            buffers.push(buffer);\n",
              "            downloaded += buffer.byteLength;\n",
              "            progress.value = downloaded;\n",
              "          }\n",
              "        }\n",
              "      }\n",
              "      const blob = new Blob(buffers, {type: 'application/binary'});\n",
              "      const a = document.createElement('a');\n",
              "      a.href = window.URL.createObjectURL(blob);\n",
              "      a.download = filename;\n",
              "      div.appendChild(a);\n",
              "      a.click();\n",
              "      div.remove();\n",
              "    }\n",
              "  "
            ],
            "text/plain": [
              "<IPython.core.display.Javascript object>"
            ]
          },
          "metadata": {}
        },
        {
          "output_type": "display_data",
          "data": {
            "application/javascript": [
              "download(\"download_ac0818f4-03f9-4e07-9b8e-6298b6f29e33\", \"vpc_and_ec2_instance.yml\", 3765)"
            ],
            "text/plain": [
              "<IPython.core.display.Javascript object>"
            ]
          },
          "metadata": {}
        }
      ],
      "source": [
        "# Author: Raul Macedo Fuzita\n",
        "#@markdown 👈 Please, run this cell after you fill out the fields <font color=\"red\">(required)</font>.<br>\n",
        "\n",
        "Description = \"Test Raul\" #@param {type:\"string\"}\n",
        "Zip_file_from_S3 = \"https://clouds-are-us-raul.s3.amazonaws.com/ca_website.zip\" #@param {type:\"string\"}\n",
        "Extension = \"yml\" #@param [\"json\", \"yml\"]\n",
        "\n",
        "if validators.url(Zip_file_from_S3):\n",
        "    lastslash = Zip_file_from_S3.rindex('/')\n",
        "    zipfile = Zip_file_from_S3[lastslash+1:]\n",
        "\n",
        "    part1 = \"#!/bin/bash -xe\\nyum update -y aws-cfn-bootstrap\\n# Install the files and packages from the metadata\\n/opt/aws/bin/cfn-init -v --stack ${AWS::StackName} --resource WebServerInstance --configsets All --region ${AWS::Region}\\n\"\n",
        "    part2 = \"# Download Lab files\\nwget \" + Zip_file_from_S3 + \"\\nunzip \" + zipfile + \" -d /var/www/html/\\n\"\n",
        "    part3 = \"# Signal the status from cfn-init\\n/opt/aws/bin/cfn-signal -e $? --stack ${AWS::StackName} --resource WebServerInstance --region ${AWS::Region}\\n\"\n",
        "\n",
        "    userdata = part1 + part2 + part3\n",
        "\n",
        "    if Description: data['Description'] = re.sub('[^:\\s._A-Za-z0-9]+','', Description)\n",
        "    if zipfile.endswith('.zip'): \n",
        "        data['Resources']['WebServerInstance']['Properties']['UserData']['Fn::Base64']['Fn::Sub'] = userdata\n",
        "\n",
        "        jsonfile = json.dumps(data, indent=4)\n",
        "\n",
        "        content = jsonfile if Extension == 'json' else to_yaml(jsonfile, clean_up=True)\n",
        "        filename = 'vpc_and_ec2_instance.'+Extension\n",
        "        \n",
        "        with open(filename, 'w') as f:\n",
        "            f.write(content)\n",
        "        files.download(filename)\n",
        "    else:\n",
        "        print(\"You must select a zip format\")\n",
        "else:\n",
        "    print(\"You must enter a valid url from your S3 bucket\")"
      ]
    },
    {
      "cell_type": "markdown",
      "source": [
        "If you have generated your template successfully, there is no need to read the rest of the article unless you want to."
      ],
      "metadata": {
        "id": "6bO7rALxk9Kw"
      }
    },
    {
      "cell_type": "markdown",
      "source": [
        "## How to Make S3 Bucket Public"
      ],
      "metadata": {
        "id": "yOaNpV7xLyih"
      }
    },
    {
      "cell_type": "markdown",
      "source": [
        "If you don't have a bucket you can create one by clicking on **Create bucket** and following the options, or search on YouTube how to create a simple S3 bucket.\n",
        "\n",
        "If you have an S3 bucket, click on your bucket name."
      ],
      "metadata": {
        "id": "M-3HowdtM7_c"
      }
    },
    {
      "cell_type": "markdown",
      "source": [
        "<img src=\"https://github.com/raulFuzita/cct-cloud-services/blob/cloudformation/images/public_S3/s3-1.png?raw=true\" width=80%/>"
      ],
      "metadata": {
        "id": "PtHbsQA7MGfP"
      }
    },
    {
      "cell_type": "markdown",
      "source": [
        "Go to tab **Permissions**, click on **Edit** button."
      ],
      "metadata": {
        "id": "osDR1MbkNzDr"
      }
    },
    {
      "cell_type": "markdown",
      "source": [
        "<img src=\"https://github.com/raulFuzita/cct-cloud-services/blob/cloudformation/images/public_S3/s3-2.png?raw=true\" width=75%/>"
      ],
      "metadata": {
        "id": "XJdBRrJHMXqn"
      }
    },
    {
      "cell_type": "markdown",
      "source": [
        "Unmark the option **Block all public access**. <font color=\"yellow\">Remember this is not aiming safety, the purpose is to import a fake static website to an EC2 instance.</font>"
      ],
      "metadata": {
        "id": "3YB-bYM9N7za"
      }
    },
    {
      "cell_type": "markdown",
      "source": [
        "<img src=\"https://github.com/raulFuzita/cct-cloud-services/blob/cloudformation/images/public_S3/s3-3.png?raw=true\" width=75%/>"
      ],
      "metadata": {
        "id": "TuEPPKcmMd2v"
      }
    },
    {
      "cell_type": "markdown",
      "source": [
        "Upload a copy of your static website in a **zip** format (Don't import in **rar** or any other format, but **zip**).\n",
        "\n",
        "If you have already a zip file or have uploaded one, select it, click on **Actions**, scroll down the list options, and select **Make public via ACL**."
      ],
      "metadata": {
        "id": "JylRANsIOw1o"
      }
    },
    {
      "cell_type": "markdown",
      "source": [
        "<img src=\"https://github.com/raulFuzita/cct-cloud-services/blob/cloudformation/images/public_S3/s3-4.png?raw=true\" width=80%/>"
      ],
      "metadata": {
        "id": "xtdN90wmMi-2"
      }
    },
    {
      "cell_type": "markdown",
      "source": [
        "In the next window click on **Make public**."
      ],
      "metadata": {
        "id": "vSVQ0K4oPel9"
      }
    },
    {
      "cell_type": "markdown",
      "source": [
        "<img src=\"https://github.com/raulFuzita/cct-cloud-services/blob/cloudformation/images/public_S3/s3-5.png?raw=true\" width=75%/>"
      ],
      "metadata": {
        "id": "LpD7WSf3Mm02"
      }
    },
    {
      "cell_type": "markdown",
      "source": [
        "Click on the zip file name to copy its URL for later step."
      ],
      "metadata": {
        "id": "Wroafg0EPoYd"
      }
    },
    {
      "cell_type": "markdown",
      "source": [
        "<img src=\"https://github.com/raulFuzita/cct-cloud-services/blob/cloudformation/images/public_S3/s3-6.png?raw=true\" width=90%/>"
      ],
      "metadata": {
        "id": "iqw_ivtEMqON"
      }
    },
    {
      "cell_type": "markdown",
      "source": [
        "In the **Object URL** property, copy the link and paste it into a notepad or anywhere else."
      ],
      "metadata": {
        "id": "aN7xfmqYPyoG"
      }
    },
    {
      "cell_type": "markdown",
      "source": [
        "<img src=\"https://github.com/raulFuzita/cct-cloud-services/blob/cloudformation/images/public_S3/s3-7.png?raw=true\" width=90%/>"
      ],
      "metadata": {
        "id": "OcqEQRr_Mxkm"
      }
    },
    {
      "cell_type": "markdown",
      "source": [
        "Now return to the begining of the tutorial."
      ],
      "metadata": {
        "id": "BsNjUXSwQKYU"
      }
    },
    {
      "cell_type": "markdown",
      "source": [
        "## Infrastructure Information"
      ],
      "metadata": {
        "id": "44nso3yEFA5H"
      }
    },
    {
      "cell_type": "markdown",
      "source": [
        "This information is available in the script. You can alter any information after you generate the file. You can use any text editor to do so."
      ],
      "metadata": {
        "id": "lskpFLM_buP8"
      }
    },
    {
      "cell_type": "markdown",
      "source": [
        "\n",
        "VPC\n",
        "```\n",
        "Name: VPC\n",
        "EnableDnsSupport: true\n",
        "EnableDnsHostnames: true\n",
        "CidrBlock: 10.0.0.0/16\n",
        "```\n",
        "\n",
        "InternetGateway\n",
        "\n",
        "```\n",
        "Name: InternetGateway\n",
        "Attached to the VPC\n",
        "```\n",
        "\n",
        "RouteTable\n",
        "```\n",
        "Name: PublicRouteTable\n",
        "VpcId: VPC\n",
        "\n",
        "# PublicSubnetRouteTableAssociation\n",
        "SubnetId: PublicSubnet\n",
        "RouteTableId: PublicRouteTable\n",
        "```\n",
        "\n",
        "Route\n",
        "```\n",
        "Name: PublicRoute\n",
        "DependsOn: VPCGatewayAttachment\n",
        "RouteTableId: PublicRouteTable\n",
        "DestinationCidrBlock: 0.0.0.0/0\n",
        "GatewayId: InternetGateway\n",
        "```\n",
        "\n",
        "Subnet\n",
        "```\n",
        "Name: PublicSubnet\n",
        "VpcId: VPC\n",
        "CidrBlock: 10.0.0.0/24\n",
        "AvailabilityZone: AWS::Region\n",
        "```\n",
        "\n",
        "Subnet Network Acl Association\n",
        "\n",
        "```\n",
        "Name: PublicSubnetNetworkAclAssociation\n",
        "SubnetId: PublicSubnet\n",
        "NetworkAclId: VPC / DefaultNetworkAcl\n",
        "```\n",
        "\n",
        "SecurityGroup\n",
        "```\n",
        "Name: WebServerSecurityGroup\n",
        "VpcId: VPC\n",
        "\n",
        "# SecurityGroupIngress\n",
        "IpProtocol: tcp\n",
        "FromPort: 80\n",
        "ToPort: 80\n",
        "CidrIp: 0.0.0.0/0\n",
        "```\n",
        "\n",
        "EC2 Instance\n",
        "\n",
        "```\n",
        "Name: WebServerInstance\n",
        "\n",
        "#packages\n",
        "httpd\n",
        "\n",
        "InstanceType: t2.micro\n",
        "ImageId: AmazonLinuxAMIID\n",
        "\n",
        "# NetworkInterfaces\n",
        "GroupSet: WebServerSecurityGroup\n",
        "DeleteOnTermination: true\n",
        "SubnetId: PublicSubnet\n",
        "\n",
        "UserData: // Will be generated by this app\n",
        "\n",
        "# DiskVolume\n",
        "Size: 100\n",
        "AvailabilityZone: WebServerInstance / AvailabilityZone\n",
        "\n",
        "# DiskMountPoint\n",
        "InstanceId: WebServerInstance\n",
        "VolumeId: DiskVolume\n",
        "Device: /dev/sdh\n",
        "```\n",
        "\n",
        "\n"
      ],
      "metadata": {
        "id": "RuNZt6RRXlZF"
      }
    }
  ]
}